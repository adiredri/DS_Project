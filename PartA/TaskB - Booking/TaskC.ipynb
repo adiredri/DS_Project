{
 "cells": [
  {
   "cell_type": "code",
   "execution_count": 51,
   "metadata": {},
   "outputs": [
    {
     "name": "stdout",
     "output_type": "stream",
     "text": [
      "<class 'pandas.core.frame.DataFrame'>\n",
      "RangeIndex: 45400 entries, 0 to 45399\n",
      "Data columns (total 18 columns):\n",
      " #   Column                        Non-Null Count  Dtype  \n",
      "---  ------                        --------------  -----  \n",
      " 0   hotel_name                    45385 non-null  object \n",
      " 1   star_rating                   45011 non-null  float64\n",
      " 2   rating_score                  45374 non-null  float64\n",
      " 3   location_score                26850 non-null  float64\n",
      " 4   review_amount                 45346 non-null  float64\n",
      " 5   price                         45387 non-null  object \n",
      " 6   breakfast_included            45400 non-null  bool   \n",
      " 7   free_cancellation             45400 non-null  bool   \n",
      " 8   no_prepayment_needed          45400 non-null  bool   \n",
      " 9   centrally_located             45400 non-null  bool   \n",
      " 10  sustainability_certification  45400 non-null  bool   \n",
      " 11  checkin                       45400 non-null  object \n",
      " 12  checkout                      45400 non-null  object \n",
      " 13  group_index                   45400 non-null  int64  \n",
      " 14  price_clean                   45387 non-null  float64\n",
      " 15  price_numeric                 45387 non-null  float64\n",
      " 16  bed_score                     45400 non-null  float64\n",
      " 17  distance_score                45400 non-null  int64  \n",
      "dtypes: bool(5), float64(7), int64(2), object(4)\n",
      "memory usage: 4.7+ MB\n"
     ]
    }
   ],
   "source": [
    "import pandas as pd\n",
    "import numpy as np\n",
    "\n",
    "from sklearn.model_selection import train_test_split\n",
    "from sklearn.pipeline import Pipeline\n",
    "from sklearn.compose import ColumnTransformer\n",
    "from sklearn.preprocessing import StandardScaler, OneHotEncoder\n",
    "from sklearn.impute import SimpleImputer\n",
    "from sklearn.linear_model import LinearRegression\n",
    "from sklearn.tree import DecisionTreeRegressor\n",
    "\n",
    "from sklearn.metrics import mean_squared_error, mean_absolute_error, r2_score\n",
    "\n",
    "# קריאת הקובץ merged_booking_final.csv\n",
    "df = pd.read_csv(\"merged_booking_final.csv\")\n",
    "\n",
    "# הצצה ראשונית\n",
    "df.head()\n",
    "df.info()\n"
   ]
  },
  {
   "cell_type": "code",
   "execution_count": 52,
   "metadata": {},
   "outputs": [
    {
     "name": "stdout",
     "output_type": "stream",
     "text": [
      "Missing in star_rating: 389\n"
     ]
    }
   ],
   "source": [
    "#נסתכל כמה NaN יש ב-star_rating\n",
    "print(\"Missing in star_rating:\", df[\"star_rating\"].isna().sum())"
   ]
  },
  {
   "cell_type": "code",
   "execution_count": 53,
   "metadata": {},
   "outputs": [],
   "source": [
    "target_col = \"price_numeric\"\n",
    "\n",
    "# נשמור רק את השורות שבהן price_numeric אינו NaN\n",
    "df = df.dropna(subset=[target_col])\n",
    "\n",
    "\n",
    "# עמודות נומריות אפשריות\n",
    "numeric_cols = [\n",
    "    \"star_rating\", \n",
    "    \"rating_score\", \n",
    "    \"location_score\", \n",
    "    \"review_amount\", \n",
    "    \"distance_score\"\n",
    "]\n",
    "\n",
    "# עמודות בוליאניות\n",
    "bool_cols = [\n",
    "    \"breakfast_included\",\n",
    "    \"free_cancellation\",\n",
    "    \"no_prepayment_needed\",\n",
    "    \"centrally_located\",\n",
    "    \"sustainability_certification\"\n",
    "]\n",
    "\n",
    "# נכין את X ו-y\n",
    "drop_cols = [\n",
    "    target_col,        # כי זה ה-Target\n",
    "    \"hotel_name\",      # טקסט שאין בו צורך מודלי\n",
    "    \"price\",           # הגרסה הגולמית\n",
    "    \"price_clean\",     # גם עמודת עזר\n",
    "    \"checkin\", \"checkout\",\n",
    "    \"group_index\"\n",
    "]\n",
    "\n",
    "# בודקים שהעמודות קיימות\n",
    "drop_cols = [c for c in drop_cols if c in df.columns]\n",
    "\n",
    "X = df.drop(columns=drop_cols, errors=\"ignore\")\n",
    "y = df[target_col]\n"
   ]
  },
  {
   "cell_type": "code",
   "execution_count": 54,
   "metadata": {},
   "outputs": [],
   "source": [
    "X_train, X_test, y_train, y_test = train_test_split(\n",
    "    X, y, \n",
    "    test_size=0.3, \n",
    "    random_state=42\n",
    ")\n"
   ]
  },
  {
   "cell_type": "code",
   "execution_count": 55,
   "metadata": {},
   "outputs": [],
   "source": [
    "from sklearn.impute import SimpleImputer\n",
    "\n",
    "# Pipeline לעמודות נומריות\n",
    "numeric_transformer = Pipeline([\n",
    "    (\"imputer\", SimpleImputer(strategy=\"mean\")),   # מילוי NaN בממוצע\n",
    "    (\"scaler\", StandardScaler())\n",
    "])\n",
    "\n",
    "# עבור העמודות הבוליאניות, נניח pass-through (כי 0/1)\n",
    "bool_transformer = \"passthrough\"\n",
    "\n",
    "# הגדרת ColumnTransformer\n",
    "preprocessor = ColumnTransformer(transformers=[\n",
    "    (\"num\", numeric_transformer, numeric_cols),\n",
    "    (\"bool\", bool_transformer, bool_cols)\n",
    "])\n"
   ]
  },
  {
   "cell_type": "code",
   "execution_count": 56,
   "metadata": {},
   "outputs": [
    {
     "name": "stdout",
     "output_type": "stream",
     "text": [
      "Model: LinearRegression\n",
      "  MSE:  7088654.85\n",
      "  RMSE: 2662.45\n",
      "  MAE:  1836.05\n",
      "  R^2:  0.065\n",
      "----------------------------------------\n",
      "Model: DecisionTree\n",
      "  MSE:  6496531.48\n",
      "  RMSE: 2548.83\n",
      "  MAE:  1762.84\n",
      "  R^2:  0.143\n",
      "----------------------------------------\n"
     ]
    }
   ],
   "source": [
    "def evaluate_model(model_name, model, X_train, X_test, y_train, y_test):\n",
    "    model.fit(X_train, y_train)\n",
    "    y_pred = model.predict(X_test)\n",
    "    \n",
    "    mse = mean_squared_error(y_test, y_pred)\n",
    "    rmse = np.sqrt(mse)\n",
    "    mae = mean_absolute_error(y_test, y_pred)\n",
    "    r2 = r2_score(y_test, y_pred)\n",
    "    \n",
    "    print(f\"Model: {model_name}\")\n",
    "    print(f\"  MSE:  {mse:.2f}\")\n",
    "    print(f\"  RMSE: {rmse:.2f}\")\n",
    "    print(f\"  MAE:  {mae:.2f}\")\n",
    "    print(f\"  R^2:  {r2:.3f}\")\n",
    "    print(\"-\"*40)\n",
    "\n",
    "from sklearn.linear_model import LinearRegression\n",
    "from sklearn.tree import DecisionTreeRegressor\n",
    "from sklearn.pipeline import Pipeline\n",
    "\n",
    "# Pipeline ל-LinearRegression\n",
    "pipe_lr = Pipeline([\n",
    "    (\"preprocessor\", preprocessor),\n",
    "    (\"regressor\", LinearRegression())\n",
    "])\n",
    "\n",
    "# Pipeline ל-DecisionTree\n",
    "pipe_dt = Pipeline([\n",
    "    (\"preprocessor\", preprocessor),\n",
    "    (\"regressor\", DecisionTreeRegressor(random_state=42))\n",
    "])\n",
    "\n",
    "# הרצה והערכה\n",
    "for name, pipeline in [\n",
    "    (\"LinearRegression\", pipe_lr), \n",
    "    (\"DecisionTree\", pipe_dt)\n",
    "]:\n",
    "    evaluate_model(name, pipeline, X_train, X_test, y_train, y_test)\n"
   ]
  },
  {
   "cell_type": "code",
   "execution_count": 57,
   "metadata": {},
   "outputs": [
    {
     "name": "stdout",
     "output_type": "stream",
     "text": [
      "Best params for DecisionTree: {'regressor__max_depth': 10, 'regressor__min_samples_split': 5}\n",
      "Model: Best DecisionTree\n",
      "  MSE:  6440102.35\n",
      "  RMSE: 2537.74\n",
      "  MAE:  1766.17\n",
      "  R^2:  0.151\n",
      "----------------------------------------\n"
     ]
    }
   ],
   "source": [
    "from sklearn.model_selection import GridSearchCV\n",
    "\n",
    "param_grid_dt = {\n",
    "    \"regressor__max_depth\": [3, 5, 10, None],\n",
    "    \"regressor__min_samples_split\": [2, 5, 10]\n",
    "}\n",
    "\n",
    "pipe_dt_gs = GridSearchCV(pipe_dt, param_grid_dt, \n",
    "                          scoring=\"neg_mean_squared_error\", \n",
    "                          cv=3,\n",
    "                          n_jobs=-1)\n",
    "\n",
    "pipe_dt_gs.fit(X_train, y_train)\n",
    "\n",
    "print(\"Best params for DecisionTree:\", pipe_dt_gs.best_params_)\n",
    "\n",
    "# הערכה על סט הבדיקה\n",
    "best_dt = pipe_dt_gs.best_estimator_\n",
    "evaluate_model(\"Best DecisionTree\", best_dt, X_train, X_test, y_train, y_test)\n"
   ]
  }
 ],
 "metadata": {
  "kernelspec": {
   "display_name": ".venv",
   "language": "python",
   "name": "python3"
  },
  "language_info": {
   "codemirror_mode": {
    "name": "ipython",
    "version": 3
   },
   "file_extension": ".py",
   "mimetype": "text/x-python",
   "name": "python",
   "nbconvert_exporter": "python",
   "pygments_lexer": "ipython3",
   "version": "3.13.1"
  }
 },
 "nbformat": 4,
 "nbformat_minor": 2
}
