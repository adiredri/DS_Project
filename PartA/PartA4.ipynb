{
 "cells": [
  {
   "cell_type": "code",
   "execution_count": 1,
   "metadata": {},
   "outputs": [],
   "source": [
    "import pandas as pd"
   ]
  },
  {
   "cell_type": "markdown",
   "metadata": {},
   "source": [
    "# Data Cleaning\n",
    "creating matching data frame that will include matching hotel names, ttt, los combination\n",
    "the price difference between both scraped csv files will be calculated as well"
   ]
  },
  {
   "cell_type": "code",
   "execution_count": 3,
   "metadata": {},
   "outputs": [
    {
     "name": "stdout",
     "output_type": "stream",
     "text": [
      "Number of matched hotels: 26336\n"
     ]
    }
   ],
   "source": [
    "expedia_df = pd.read_csv('Data/combined_expedia_results.csv')\n",
    "booking_df = pd.read_csv('TaskB - Booking/merged_booking_final.csv')\n",
    "\n",
    "#clean hotel names\n",
    "expedia_df['hotel_name'] = expedia_df['Hotel Name'].str.strip().str.lower()\n",
    "booking_df['hotel_name'] = booking_df['hotel_name'].str.strip().str.lower()\n",
    "\n",
    "# creating matched dataframe that contains only shared hotel names with same ttt and los\n",
    "matched_df = pd.merge(expedia_df[['hotel_name', 'TTT', 'LOS']],\n",
    "                      booking_df[['hotel_name', 'ttt', 'los']],\n",
    "                      left_on=['hotel_name', 'TTT', 'LOS'],\n",
    "                      right_on=['hotel_name', 'ttt', 'los'],\n",
    "                      how='inner')\n",
    "print(f\"Number of matched hotels: {len(matched_df)}\")\n"
   ]
  },
  {
   "cell_type": "code",
   "execution_count": null,
   "metadata": {},
   "outputs": [],
   "source": []
  }
 ],
 "metadata": {
  "kernelspec": {
   "display_name": "base",
   "language": "python",
   "name": "python3"
  },
  "language_info": {
   "codemirror_mode": {
    "name": "ipython",
    "version": 3
   },
   "file_extension": ".py",
   "mimetype": "text/x-python",
   "name": "python",
   "nbconvert_exporter": "python",
   "pygments_lexer": "ipython3",
   "version": "3.12.7"
  }
 },
 "nbformat": 4,
 "nbformat_minor": 2
}
