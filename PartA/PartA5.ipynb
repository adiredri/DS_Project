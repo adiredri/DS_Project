{
 "cells": [
  {
   "cell_type": "code",
   "execution_count": null,
   "metadata": {},
   "outputs": [],
   "source": [
    "# Install lightgbm if not already installed\n",
    "pip install --upgrade lightgbm"
   ]
  },
  {
   "cell_type": "code",
   "execution_count": 37,
   "metadata": {},
   "outputs": [],
   "source": [
    "import pandas as pd\n",
    "from sklearn.preprocessing import MinMaxScaler\n",
    "from sklearn.model_selection import train_test_split\n",
    "import lightgbm as lgb\n",
    "import numpy as np\n"
   ]
  },
  {
   "cell_type": "code",
   "execution_count": 20,
   "metadata": {},
   "outputs": [
    {
     "name": "stdout",
     "output_type": "stream",
     "text": [
      "Total rows in combined dataset: 44518\n",
      "\n",
      "Missing values per column:\n",
      " Snapshot Date         0\n",
      "TTT                   0\n",
      "LOS                   0\n",
      "Hotel Name            0\n",
      "Price                 0\n",
      "Rating                0\n",
      "Reviews               0\n",
      "Neighborhood          0\n",
      "Breakfast             0\n",
      "Free Cancellation     0\n",
      "Rooms Left            0\n",
      "Check-in              0\n",
      "Check-out             0\n",
      "search_group          0\n",
      "hotel_name_encoded    0\n",
      "dtype: int64\n",
      "\n",
      "Numerical column stats:\n",
      "                 TTT           LOS    Hotel Name         Price        Rating  \\\n",
      "count  44518.000000  44518.000000  44518.000000  44518.000000  44518.000000   \n",
      "mean      15.442989      2.983018    202.279527    964.970731      2.715037   \n",
      "std        8.617443      1.410342    118.064074    528.421080      1.402482   \n",
      "min        1.000000      1.000000      0.000000    106.000000     -1.000000   \n",
      "25%        8.000000      2.000000    112.000000    528.000000      2.000000   \n",
      "50%       15.000000      3.000000    188.000000    916.000000      3.000000   \n",
      "75%       23.000000      4.000000    290.000000   1333.000000      4.000000   \n",
      "max       30.000000      5.000000    420.000000   2575.000000      5.000000   \n",
      "\n",
      "            Reviews  Neighborhood     Breakfast  Free Cancellation  \\\n",
      "count  44518.000000  44518.000000  44518.000000       44518.000000   \n",
      "mean    1856.039535     13.872321      0.202300           0.409430   \n",
      "std     1169.352833      1.973101      0.401719           0.491734   \n",
      "min       -1.000000     -1.000000      0.000000           0.000000   \n",
      "25%     1013.000000     14.000000      0.000000           0.000000   \n",
      "50%     1484.000000     14.000000      0.000000           0.000000   \n",
      "75%     2294.000000     14.000000      0.000000           1.000000   \n",
      "max     5917.000000     16.000000      1.000000           1.000000   \n",
      "\n",
      "         Rooms Left  search_group  hotel_name_encoded  \n",
      "count  44518.000000  44518.000000        44518.000000  \n",
      "mean      18.590503     49.501483          202.279527  \n",
      "std       63.365861     28.836937          118.064074  \n",
      "min       -1.000000      0.000000            0.000000  \n",
      "25%       -1.000000     25.000000          112.000000  \n",
      "50%       -1.000000     49.000000          188.000000  \n",
      "75%        4.000000     74.000000          290.000000  \n",
      "max      973.000000     99.000000          420.000000  \n",
      "\n",
      "Unique values in TTT: [ 1  2  3  4  5  6  7  8  9 10 11 12 13 14 15 16 17 18 19 20 21 22 23 24\n",
      " 25 26 27 28 29 30]\n",
      "\n",
      "Unique values in Neighborhood: [14 16 11 15  5  4 12 10  9  7  8  6 -1  1  2  3]\n",
      "\n",
      "Unique values in Breakfast: [0 1]\n",
      "\n",
      "Unique values in Free Cancellation: [0 1]\n",
      "\n",
      "Unique values in search_group: [ 0  1  2  3  4  5  6  7  8  9 10 11 12 13 14 15 16 17 18 19 20 21 22 23\n",
      " 24 25 26 27 28 29 30 31 32 33 34 35 36 37 38 39 40 41 42 43 44 45 46 47\n",
      " 48 49 50 51 52 53 54 55 56 57 58 59 60 61 62 63 64 65 66 67 68 69 70 71\n",
      " 72 73 74 75 76 77 78 79 80 81 82 83 84 85 86 87 88 89 90 91 92 93 94 95\n",
      " 96 97 98 99]\n"
     ]
    }
   ],
   "source": [
    "df = pd.read_csv('./Data/combined_expedia_results.csv')\n",
    "\n",
    "# Basic info\n",
    "print(f\"Total rows in combined dataset: {len(df)}\")\n",
    "print(\"\\nMissing values per column:\\n\", df.isnull().sum())\n",
    "\n",
    "# Summary of numerical columns\n",
    "print(\"\\nNumerical column stats:\\n\", df.describe())\n",
    "\n",
    "# Check unique values in categorical columns\n",
    "categorical_cols = ['TTT', 'Neighborhood', 'Breakfast', 'Free Cancellation', 'search_group']\n",
    "for col in categorical_cols:\n",
    "    print(f\"\\nUnique values in {col}: {df[col].unique()}\")\n"
   ]
  },
  {
   "cell_type": "code",
   "execution_count": 21,
   "metadata": {},
   "outputs": [
    {
     "name": "stdout",
     "output_type": "stream",
     "text": [
      "Data cleaning and normalization complete!\n"
     ]
    },
    {
     "data": {
      "application/vnd.microsoft.datawrangler.viewer.v0+json": {
       "columns": [
        {
         "name": "index",
         "rawType": "int64",
         "type": "integer"
        },
        {
         "name": "Snapshot Date",
         "rawType": "object",
         "type": "string"
        },
        {
         "name": "TTT",
         "rawType": "int64",
         "type": "integer"
        },
        {
         "name": "LOS",
         "rawType": "int64",
         "type": "integer"
        },
        {
         "name": "Hotel Name",
         "rawType": "int64",
         "type": "integer"
        },
        {
         "name": "Price",
         "rawType": "float64",
         "type": "float"
        },
        {
         "name": "Rating",
         "rawType": "float64",
         "type": "float"
        },
        {
         "name": "Reviews",
         "rawType": "float64",
         "type": "float"
        },
        {
         "name": "Neighborhood",
         "rawType": "int64",
         "type": "integer"
        },
        {
         "name": "Breakfast",
         "rawType": "int64",
         "type": "integer"
        },
        {
         "name": "Free Cancellation",
         "rawType": "int64",
         "type": "integer"
        },
        {
         "name": "Rooms Left",
         "rawType": "float64",
         "type": "float"
        },
        {
         "name": "Check-in",
         "rawType": "object",
         "type": "string"
        },
        {
         "name": "Check-out",
         "rawType": "object",
         "type": "string"
        },
        {
         "name": "search_group",
         "rawType": "int64",
         "type": "integer"
        },
        {
         "name": "hotel_name_encoded",
         "rawType": "int64",
         "type": "integer"
        }
       ],
       "conversionMethod": "pd.DataFrame",
       "ref": "a94784b4-69fb-4159-bdbb-94f0b6ae312d",
       "rows": [
        [
         "0",
         "2025-03-14",
         "1",
         "1",
         "56",
         "0.09680032401782097",
         "3.0",
         "0.37918215613382894",
         "14",
         "0",
         "0",
         "0.0051387461459403904",
         "2025-03-15",
         "2025-03-16",
         "0",
         "56"
        ],
        [
         "1",
         "2025-03-14",
         "1",
         "1",
         "234",
         "0.09558525718914541",
         "1.0",
         "0.16982088543426832",
         "16",
         "1",
         "0",
         "0.0",
         "2025-03-15",
         "2025-03-16",
         "1",
         "234"
        ],
        [
         "2",
         "2025-03-14",
         "1",
         "1",
         "261",
         "0.21425678412312682",
         "2.0",
         "0.47482257519432236",
         "14",
         "0",
         "0",
         "0.0",
         "2025-03-15",
         "2025-03-16",
         "2",
         "261"
        ],
        [
         "3",
         "2025-03-14",
         "1",
         "1",
         "283",
         "0.06561360874848117",
         "4.0",
         "0.16931395741804664",
         "14",
         "1",
         "0",
         "0.0051387461459403904",
         "2025-03-15",
         "2025-03-16",
         "3",
         "283"
        ],
        [
         "4",
         "2025-03-14",
         "1",
         "1",
         "197",
         "0.060348319157553676",
         "2.0",
         "0.41162554917201755",
         "14",
         "1",
         "0",
         "0.0",
         "2025-03-15",
         "2025-03-16",
         "4",
         "197"
        ]
       ],
       "shape": {
        "columns": 15,
        "rows": 5
       }
      },
      "text/html": [
       "<div>\n",
       "<style scoped>\n",
       "    .dataframe tbody tr th:only-of-type {\n",
       "        vertical-align: middle;\n",
       "    }\n",
       "\n",
       "    .dataframe tbody tr th {\n",
       "        vertical-align: top;\n",
       "    }\n",
       "\n",
       "    .dataframe thead th {\n",
       "        text-align: right;\n",
       "    }\n",
       "</style>\n",
       "<table border=\"1\" class=\"dataframe\">\n",
       "  <thead>\n",
       "    <tr style=\"text-align: right;\">\n",
       "      <th></th>\n",
       "      <th>Snapshot Date</th>\n",
       "      <th>TTT</th>\n",
       "      <th>LOS</th>\n",
       "      <th>Hotel Name</th>\n",
       "      <th>Price</th>\n",
       "      <th>Rating</th>\n",
       "      <th>Reviews</th>\n",
       "      <th>Neighborhood</th>\n",
       "      <th>Breakfast</th>\n",
       "      <th>Free Cancellation</th>\n",
       "      <th>Rooms Left</th>\n",
       "      <th>Check-in</th>\n",
       "      <th>Check-out</th>\n",
       "      <th>search_group</th>\n",
       "      <th>hotel_name_encoded</th>\n",
       "    </tr>\n",
       "  </thead>\n",
       "  <tbody>\n",
       "    <tr>\n",
       "      <th>0</th>\n",
       "      <td>2025-03-14</td>\n",
       "      <td>1</td>\n",
       "      <td>1</td>\n",
       "      <td>56</td>\n",
       "      <td>0.096800</td>\n",
       "      <td>3.0</td>\n",
       "      <td>0.379182</td>\n",
       "      <td>14</td>\n",
       "      <td>0</td>\n",
       "      <td>0</td>\n",
       "      <td>0.005139</td>\n",
       "      <td>2025-03-15</td>\n",
       "      <td>2025-03-16</td>\n",
       "      <td>0</td>\n",
       "      <td>56</td>\n",
       "    </tr>\n",
       "    <tr>\n",
       "      <th>1</th>\n",
       "      <td>2025-03-14</td>\n",
       "      <td>1</td>\n",
       "      <td>1</td>\n",
       "      <td>234</td>\n",
       "      <td>0.095585</td>\n",
       "      <td>1.0</td>\n",
       "      <td>0.169821</td>\n",
       "      <td>16</td>\n",
       "      <td>1</td>\n",
       "      <td>0</td>\n",
       "      <td>0.000000</td>\n",
       "      <td>2025-03-15</td>\n",
       "      <td>2025-03-16</td>\n",
       "      <td>1</td>\n",
       "      <td>234</td>\n",
       "    </tr>\n",
       "    <tr>\n",
       "      <th>2</th>\n",
       "      <td>2025-03-14</td>\n",
       "      <td>1</td>\n",
       "      <td>1</td>\n",
       "      <td>261</td>\n",
       "      <td>0.214257</td>\n",
       "      <td>2.0</td>\n",
       "      <td>0.474823</td>\n",
       "      <td>14</td>\n",
       "      <td>0</td>\n",
       "      <td>0</td>\n",
       "      <td>0.000000</td>\n",
       "      <td>2025-03-15</td>\n",
       "      <td>2025-03-16</td>\n",
       "      <td>2</td>\n",
       "      <td>261</td>\n",
       "    </tr>\n",
       "    <tr>\n",
       "      <th>3</th>\n",
       "      <td>2025-03-14</td>\n",
       "      <td>1</td>\n",
       "      <td>1</td>\n",
       "      <td>283</td>\n",
       "      <td>0.065614</td>\n",
       "      <td>4.0</td>\n",
       "      <td>0.169314</td>\n",
       "      <td>14</td>\n",
       "      <td>1</td>\n",
       "      <td>0</td>\n",
       "      <td>0.005139</td>\n",
       "      <td>2025-03-15</td>\n",
       "      <td>2025-03-16</td>\n",
       "      <td>3</td>\n",
       "      <td>283</td>\n",
       "    </tr>\n",
       "    <tr>\n",
       "      <th>4</th>\n",
       "      <td>2025-03-14</td>\n",
       "      <td>1</td>\n",
       "      <td>1</td>\n",
       "      <td>197</td>\n",
       "      <td>0.060348</td>\n",
       "      <td>2.0</td>\n",
       "      <td>0.411626</td>\n",
       "      <td>14</td>\n",
       "      <td>1</td>\n",
       "      <td>0</td>\n",
       "      <td>0.000000</td>\n",
       "      <td>2025-03-15</td>\n",
       "      <td>2025-03-16</td>\n",
       "      <td>4</td>\n",
       "      <td>197</td>\n",
       "    </tr>\n",
       "  </tbody>\n",
       "</table>\n",
       "</div>"
      ],
      "text/plain": [
       "  Snapshot Date  TTT  LOS  Hotel Name     Price  Rating   Reviews  \\\n",
       "0    2025-03-14    1    1          56  0.096800     3.0  0.379182   \n",
       "1    2025-03-14    1    1         234  0.095585     1.0  0.169821   \n",
       "2    2025-03-14    1    1         261  0.214257     2.0  0.474823   \n",
       "3    2025-03-14    1    1         283  0.065614     4.0  0.169314   \n",
       "4    2025-03-14    1    1         197  0.060348     2.0  0.411626   \n",
       "\n",
       "   Neighborhood  Breakfast  Free Cancellation  Rooms Left    Check-in  \\\n",
       "0            14          0                  0    0.005139  2025-03-15   \n",
       "1            16          1                  0    0.000000  2025-03-15   \n",
       "2            14          0                  0    0.000000  2025-03-15   \n",
       "3            14          1                  0    0.005139  2025-03-15   \n",
       "4            14          1                  0    0.000000  2025-03-15   \n",
       "\n",
       "    Check-out  search_group  hotel_name_encoded  \n",
       "0  2025-03-16             0                  56  \n",
       "1  2025-03-16             1                 234  \n",
       "2  2025-03-16             2                 261  \n",
       "3  2025-03-16             3                 283  \n",
       "4  2025-03-16             4                 197  "
      ]
     },
     "execution_count": 21,
     "metadata": {},
     "output_type": "execute_result"
    }
   ],
   "source": [
    "# Handle missing or placeholder values (-1)\n",
    "df['Rating'] = df['Rating'].replace(-1, df['Rating'].median())  # Replace -1 with median rating\n",
    "df['Neighborhood'] = df['Neighborhood'].replace(-1, df['Neighborhood'].mode()[0])  # Replace -1 with most common neighborhood\n",
    "df['Rooms Left'] = df['Rooms Left'].replace(-1, 0)  # Assume -1 means \"No rooms left\"\n",
    "\n",
    "# Normalize Price, Reviews, and Rooms Left\n",
    "scaler = MinMaxScaler()\n",
    "df[['Price', 'Reviews', 'Rooms Left']] = scaler.fit_transform(df[['Price', 'Reviews', 'Rooms Left']])\n",
    "\n",
    "print(\"Data cleaning and normalization complete!\")\n",
    "df.head()\n"
   ]
  },
  {
   "cell_type": "code",
   "execution_count": 22,
   "metadata": {},
   "outputs": [
    {
     "name": "stdout",
     "output_type": "stream",
     "text": [
      "Train size: 22247, Test size: 22271\n"
     ]
    }
   ],
   "source": [
    "# Split train (even TTTs) and test (odd TTTs)\n",
    "train_df = df[df['TTT'] % 2 == 0].copy()\n",
    "test_df = df[df['TTT'] % 2 == 1].copy()\n",
    "\n",
    "# Shuffle the test set to simulate a realistic ranking challenge\n",
    "test_df_shuffled = test_df.sample(frac=1, random_state=42).reset_index(drop=True)\n",
    "\n",
    "print(f\"Train size: {len(train_df)}, Test size: {len(test_df)}\")"
   ]
  },
  {
   "cell_type": "code",
   "execution_count": 42,
   "metadata": {},
   "outputs": [
    {
     "name": "stdout",
     "output_type": "stream",
     "text": [
      "Max ranking per group (train):\n",
      " count    225.000000\n",
      "mean      82.328889\n",
      "std        6.658662\n",
      "min       58.000000\n",
      "25%       80.000000\n",
      "50%       84.000000\n",
      "75%       87.000000\n",
      "max       94.000000\n",
      "Name: ranking_position, dtype: float64\n",
      "Max ranking per group (test):\n",
      " count    225.000000\n",
      "mean      82.182222\n",
      "std        6.757116\n",
      "min       61.000000\n",
      "25%       79.000000\n",
      "50%       84.000000\n",
      "75%       87.000000\n",
      "max       94.000000\n",
      "Name: ranking_position, dtype: float64\n",
      "Max hotels per group in train: 100\n",
      "Max hotels per group in test: 100\n"
     ]
    },
    {
     "ename": "LightGBMError",
     "evalue": "Label 65 is not less than the number of label mappings (31)",
     "output_type": "error",
     "traceback": [
      "\u001b[1;31m---------------------------------------------------------------------------\u001b[0m",
      "\u001b[1;31mLightGBMError\u001b[0m                             Traceback (most recent call last)",
      "Cell \u001b[1;32mIn[42], line 58\u001b[0m\n\u001b[0;32m     47\u001b[0m params \u001b[38;5;241m=\u001b[39m {\n\u001b[0;32m     48\u001b[0m     \u001b[38;5;124m'\u001b[39m\u001b[38;5;124mobjective\u001b[39m\u001b[38;5;124m'\u001b[39m: \u001b[38;5;124m'\u001b[39m\u001b[38;5;124mlambdarank\u001b[39m\u001b[38;5;124m'\u001b[39m,\n\u001b[0;32m     49\u001b[0m     \u001b[38;5;124m'\u001b[39m\u001b[38;5;124mmetric\u001b[39m\u001b[38;5;124m'\u001b[39m: \u001b[38;5;124m'\u001b[39m\u001b[38;5;124mndcg\u001b[39m\u001b[38;5;124m'\u001b[39m,\n\u001b[1;32m   (...)\u001b[0m\n\u001b[0;32m     54\u001b[0m     \u001b[38;5;124m'\u001b[39m\u001b[38;5;124mverbose\u001b[39m\u001b[38;5;124m'\u001b[39m: \u001b[38;5;241m-\u001b[39m\u001b[38;5;241m1\u001b[39m,  \u001b[38;5;66;03m# Silence logs\u001b[39;00m\n\u001b[0;32m     55\u001b[0m }\n\u001b[0;32m     57\u001b[0m \u001b[38;5;66;03m# Train the ranking model\u001b[39;00m\n\u001b[1;32m---> 58\u001b[0m ranker \u001b[38;5;241m=\u001b[39m lgb\u001b[38;5;241m.\u001b[39mtrain(\n\u001b[0;32m     59\u001b[0m     params, \n\u001b[0;32m     60\u001b[0m     train_data, \n\u001b[0;32m     61\u001b[0m     valid_sets\u001b[38;5;241m=\u001b[39m[valid_data],  \u001b[38;5;66;03m# Validation set\u001b[39;00m\n\u001b[0;32m     62\u001b[0m     num_boost_round\u001b[38;5;241m=\u001b[39m\u001b[38;5;241m100\u001b[39m\n\u001b[0;32m     63\u001b[0m )\n\u001b[0;32m     65\u001b[0m \u001b[38;5;28mprint\u001b[39m(\u001b[38;5;124m\"\u001b[39m\u001b[38;5;124mRanking Model Trained Successfully!\u001b[39m\u001b[38;5;124m\"\u001b[39m)\n",
      "File \u001b[1;32mc:\\Users\\alon1\\anaconda3\\Lib\\site-packages\\lightgbm\\engine.py:297\u001b[0m, in \u001b[0;36mtrain\u001b[1;34m(params, train_set, num_boost_round, valid_sets, valid_names, feval, init_model, keep_training_booster, callbacks)\u001b[0m\n\u001b[0;32m    295\u001b[0m \u001b[38;5;66;03m# construct booster\u001b[39;00m\n\u001b[0;32m    296\u001b[0m \u001b[38;5;28;01mtry\u001b[39;00m:\n\u001b[1;32m--> 297\u001b[0m     booster \u001b[38;5;241m=\u001b[39m Booster(params\u001b[38;5;241m=\u001b[39mparams, train_set\u001b[38;5;241m=\u001b[39mtrain_set)\n\u001b[0;32m    298\u001b[0m     \u001b[38;5;28;01mif\u001b[39;00m is_valid_contain_train:\n\u001b[0;32m    299\u001b[0m         booster\u001b[38;5;241m.\u001b[39mset_train_data_name(train_data_name)\n",
      "File \u001b[1;32mc:\\Users\\alon1\\anaconda3\\Lib\\site-packages\\lightgbm\\basic.py:3660\u001b[0m, in \u001b[0;36mBooster.__init__\u001b[1;34m(self, params, train_set, model_file, model_str)\u001b[0m\n\u001b[0;32m   3658\u001b[0m params\u001b[38;5;241m.\u001b[39mupdate(train_set\u001b[38;5;241m.\u001b[39mget_params())\n\u001b[0;32m   3659\u001b[0m params_str \u001b[38;5;241m=\u001b[39m _param_dict_to_str(params)\n\u001b[1;32m-> 3660\u001b[0m _safe_call(\n\u001b[0;32m   3661\u001b[0m     _LIB\u001b[38;5;241m.\u001b[39mLGBM_BoosterCreate(\n\u001b[0;32m   3662\u001b[0m         train_set\u001b[38;5;241m.\u001b[39m_handle,\n\u001b[0;32m   3663\u001b[0m         _c_str(params_str),\n\u001b[0;32m   3664\u001b[0m         ctypes\u001b[38;5;241m.\u001b[39mbyref(\u001b[38;5;28mself\u001b[39m\u001b[38;5;241m.\u001b[39m_handle),\n\u001b[0;32m   3665\u001b[0m     )\n\u001b[0;32m   3666\u001b[0m )\n\u001b[0;32m   3667\u001b[0m \u001b[38;5;66;03m# save reference to data\u001b[39;00m\n\u001b[0;32m   3668\u001b[0m \u001b[38;5;28mself\u001b[39m\u001b[38;5;241m.\u001b[39mtrain_set \u001b[38;5;241m=\u001b[39m train_set\n",
      "File \u001b[1;32mc:\\Users\\alon1\\anaconda3\\Lib\\site-packages\\lightgbm\\basic.py:313\u001b[0m, in \u001b[0;36m_safe_call\u001b[1;34m(ret)\u001b[0m\n\u001b[0;32m    305\u001b[0m \u001b[38;5;250m\u001b[39m\u001b[38;5;124;03m\"\"\"Check the return value from C API call.\u001b[39;00m\n\u001b[0;32m    306\u001b[0m \n\u001b[0;32m    307\u001b[0m \u001b[38;5;124;03mParameters\u001b[39;00m\n\u001b[1;32m   (...)\u001b[0m\n\u001b[0;32m    310\u001b[0m \u001b[38;5;124;03m    The return value from C API calls.\u001b[39;00m\n\u001b[0;32m    311\u001b[0m \u001b[38;5;124;03m\"\"\"\u001b[39;00m\n\u001b[0;32m    312\u001b[0m \u001b[38;5;28;01mif\u001b[39;00m ret \u001b[38;5;241m!=\u001b[39m \u001b[38;5;241m0\u001b[39m:\n\u001b[1;32m--> 313\u001b[0m     \u001b[38;5;28;01mraise\u001b[39;00m LightGBMError(_LIB\u001b[38;5;241m.\u001b[39mLGBM_GetLastError()\u001b[38;5;241m.\u001b[39mdecode(\u001b[38;5;124m\"\u001b[39m\u001b[38;5;124mutf-8\u001b[39m\u001b[38;5;124m\"\u001b[39m))\n",
      "\u001b[1;31mLightGBMError\u001b[0m: Label 65 is not less than the number of label mappings (31)"
     ]
    }
   ],
   "source": [
    "# Define features for ranking\n",
    "features = ['Price', 'Rating', 'Reviews', 'Neighborhood', 'Breakfast', 'Free Cancellation', 'Rooms Left']\n",
    "\n",
    "# Define group key for ranking (Snapshot Date, TTT, LOS)\n",
    "train_df['group_key'] = train_df['Snapshot Date'].astype(str) + \"_\" + train_df['TTT'].astype(str) + \"_\" + train_df['LOS'].astype(str)\n",
    "test_df['group_key'] = test_df['Snapshot Date'].astype(str) + \"_\" + test_df['TTT'].astype(str) + \"_\" + test_df['LOS'].astype(str)\n",
    "\n",
    "# 🚀 Fix: Assign natural ranking labels without MinMaxScaler 🚀\n",
    "def assign_ranking_labels(df):\n",
    "    df['ranking_position'] = df.groupby('group_key')['Price'].rank(method=\"dense\", ascending=True) - 1\n",
    "    return df\n",
    "\n",
    "train_df = assign_ranking_labels(train_df)\n",
    "test_df = assign_ranking_labels(test_df)\n",
    "\n",
    "# Convert ranking position to integer\n",
    "train_df['ranking_position'] = train_df['ranking_position'].astype(int)\n",
    "test_df['ranking_position'] = test_df['ranking_position'].astype(int)\n",
    "\n",
    "# 🚀 Debugging: Check label distribution\n",
    "print(\"Max ranking per group (train):\\n\", train_df.groupby('group_key')['ranking_position'].max().describe())\n",
    "print(\"Max ranking per group (test):\\n\", test_df.groupby('group_key')['ranking_position'].max().describe())\n",
    "\n",
    "# Shuffle training data while preserving groups\n",
    "train_df = train_df.sample(frac=1, random_state=42).reset_index(drop=True)\n",
    "\n",
    "# Extract training data\n",
    "X_train = train_df[features]\n",
    "y_train = train_df['ranking_position']\n",
    "\n",
    "X_test = test_df[features]\n",
    "y_test = test_df['ranking_position']\n",
    "\n",
    "# Get number of hotels per group (for ranking loss calculation)\n",
    "train_groups = train_df.groupby('group_key').size().tolist()\n",
    "test_groups = test_df.groupby('group_key').size().tolist()\n",
    "\n",
    "# Debugging: Check if train_groups and test_groups match expected values\n",
    "print(\"Max hotels per group in train:\", max(train_groups))\n",
    "print(\"Max hotels per group in test:\", max(test_groups))\n",
    "\n",
    "# LightGBM dataset\n",
    "train_data = lgb.Dataset(X_train, label=y_train, group=train_groups)\n",
    "valid_data = lgb.Dataset(X_test, label=y_test, group=test_groups, reference=train_data)\n",
    "\n",
    "# 🚀 Force LightGBM to accept natural ranking range 🚀\n",
    "params = {\n",
    "    'objective': 'lambdarank',\n",
    "    'metric': 'ndcg',\n",
    "    'learning_rate': 0.05,\n",
    "    'num_leaves': 31,\n",
    "    'min_data_in_leaf': 20,\n",
    "    'boosting_type': 'gbdt',\n",
    "    'verbose': -1,  # Silence logs\n",
    "}\n",
    "\n",
    "# Train the ranking model\n",
    "ranker = lgb.train(\n",
    "    params, \n",
    "    train_data, \n",
    "    valid_sets=[valid_data],  # Validation set\n",
    "    num_boost_round=100\n",
    ")\n",
    "\n",
    "print(\"Ranking Model Trained Successfully!\")"
   ]
  },
  {
   "cell_type": "code",
   "execution_count": 40,
   "metadata": {},
   "outputs": [
    {
     "name": "stdout",
     "output_type": "stream",
     "text": [
      "Predicted ranking per group (test):\n",
      " count    225.000000\n",
      "mean      98.982222\n",
      "std        3.274583\n",
      "min       76.000000\n",
      "25%      100.000000\n",
      "50%      100.000000\n",
      "75%      100.000000\n",
      "max      100.000000\n",
      "Name: predicted_rank, dtype: float64\n"
     ]
    }
   ],
   "source": [
    "# Predict ranking scores for test data\n",
    "test_df['predicted_score'] = ranker.predict(X_test)\n",
    "\n",
    "# Rank hotels within each group based on predicted scores\n",
    "test_df['predicted_rank'] = test_df.groupby('group_key')['predicted_score'].rank(method=\"first\", ascending=False).astype(int)\n",
    "\n",
    "# 🚀 Debugging: Check ranking distribution\n",
    "print(\"Predicted ranking per group (test):\\n\", test_df.groupby('group_key')['predicted_rank'].max().describe())\n",
    "\n",
    "# Sort test set by original ranking position for evaluation\n",
    "test_df = test_df.sort_values(by=['group_key', 'ranking_position']).reset_index(drop=True)\n",
    "\n",
    "# Sort test set by predicted ranking for comparison\n",
    "test_df_sorted = test_df.sort_values(by=['group_key', 'predicted_rank']).reset_index(drop=True)\n"
   ]
  },
  {
   "cell_type": "code",
   "execution_count": 41,
   "metadata": {},
   "outputs": [
    {
     "name": "stdout",
     "output_type": "stream",
     "text": [
      "Ranking Error (MSE): 2474.8267\n",
      "Ranking Error (MAE): 41.3242\n"
     ]
    }
   ],
   "source": [
    "from sklearn.metrics import mean_squared_error, mean_absolute_error\n",
    "\n",
    "# Compute ranking errors\n",
    "mse = mean_squared_error(test_df['ranking_position'], test_df['predicted_rank'])\n",
    "mae = mean_absolute_error(test_df['ranking_position'], test_df['predicted_rank'])\n",
    "\n",
    "print(f\"Ranking Error (MSE): {mse:.4f}\")\n",
    "print(f\"Ranking Error (MAE): {mae:.4f}\")\n"
   ]
  }
 ],
 "metadata": {
  "kernelspec": {
   "display_name": "base",
   "language": "python",
   "name": "python3"
  },
  "language_info": {
   "codemirror_mode": {
    "name": "ipython",
    "version": 3
   },
   "file_extension": ".py",
   "mimetype": "text/x-python",
   "name": "python",
   "nbconvert_exporter": "python",
   "pygments_lexer": "ipython3",
   "version": "3.12.3"
  }
 },
 "nbformat": 4,
 "nbformat_minor": 2
}
